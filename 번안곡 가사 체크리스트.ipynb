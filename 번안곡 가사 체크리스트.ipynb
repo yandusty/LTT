{
 "cells": [
  {
   "cell_type": "markdown",
   "id": "16cc483a-6072-4fe3-a757-34235944ed4d",
   "metadata": {},
   "source": [
    "# 번안곡 가사 생성 모델 훈련 이어서"
   ]
  },
  {
   "cell_type": "markdown",
   "id": "67ee5a3e-d9cc-4d14-a563-526928d31c27",
   "metadata": {},
   "source": [
    "## 차례 "
   ]
  },
  {
   "cell_type": "markdown",
   "id": "30ce91c9-b9ce-4d77-86cb-4be9d673a609",
   "metadata": {
    "jp-MarkdownHeadingCollapsed": true
   },
   "source": [
    "    - 어떤 것을 해야하는가?\n",
    "    - 무엇을 추가할 예정인가?\n",
    "    - 앞으로 훈련시켜야할 모델은?\n",
    "    - 평가 지표, 관련 손실함수 제작은?"
   ]
  },
  {
   "cell_type": "markdown",
   "id": "d3b1b067-1bd7-4a2a-b6db-99314bf9ad17",
   "metadata": {},
   "source": [
    "## 앞으로 어떤 것을 해야 하는가?"
   ]
  },
  {
   "cell_type": "markdown",
   "id": "0b870bbd-2008-407c-8321-0cc726506459",
   "metadata": {
    "jp-MarkdownHeadingCollapsed": true
   },
   "source": [
    "- 데이터 수집 </br>\n",
    "    여태 수집하여 훈련시킨 곡은 총 120곡 (여러가지 버전을 포함시킨다면 총 400곡 정도)</br>\n",
    "    정확한 수치로 말을 하자면 25000 줄 정도의 문장 쌍 데이터를 훈련시킨 모델이다."
   ]
  },
  {
   "cell_type": "markdown",
   "id": "4126694e-002f-41fa-bd46-02002c48e563",
   "metadata": {},
   "source": [
    "## 무엇을 추가할 예정인가?"
   ]
  },
  {
   "attachments": {},
   "cell_type": "markdown",
   "id": "c1343882-6249-4e77-b88a-77b1c0eb0fbc",
   "metadata": {
    "jp-MarkdownHeadingCollapsed": true
   },
   "source": [
    "- 곡 데이터\n",
    "- 학습 조건 추가</br>\n",
    "    - 음절 수 제한 (원래는 정확한 음절 수가 아닌 글자수 ㅡ> 연음 장음 촉음 고려를 하지 않음.</br>\n",
    "    이번에 추가할 제한 조건의 경우 여러 라이브러리를 활용해 탐색해볼 예정.</br>\n",
    "    예를 들자면, 가사만을 입력받았던 원래 프로젝트와는 달리 음원 자체를 입력 받거나.</br>\n",
    "    악보를 입력받아서 추가적인 정보를 활용하여 생성할 수 있도록 제작.</br>\n",
    "    - 그렇게 됬으니 일단 할 내용은 무조건 추가 라이브러리를 활용했을 때 어떤 정보를 어떻게 활용 할 수 있는 가를 봐야함.</br>\n",
    "- 제한, 손실함수 제작.\n",
    "    - 이번 졸업 작품에서는 그저 유의미한 차이가 있을 때에만 추가적인 손실을 부가했지만, 솔직히 말하자면 그 손실함수 없이 훈련시킨 결과가 더 좋았다.</br>\n",
    "    그러므로 좀더 자세히 탐구해서 제작을 하던가 아니면 데이터만 더 학습을 시켜보던가 할 예정.\n",
    "    - 또한, 해결해야할 문제중 하나가 바로 입력 문장을 그대로 사용하는 경우인데. RAG를 달아서 좀더 정확하게 해야하나? 아니면 입력된 문장을 그대로 출력하지 못하도록 점수조정을 통해서 해결해야하나.."
   ]
  }
 ],
 "metadata": {
  "kernelspec": {
   "display_name": "Python 3 (ipykernel)",
   "language": "python",
   "name": "python3"
  },
  "language_info": {
   "codemirror_mode": {
    "name": "ipython",
    "version": 3
   },
   "file_extension": ".py",
   "mimetype": "text/x-python",
   "name": "python",
   "nbconvert_exporter": "python",
   "pygments_lexer": "ipython3",
   "version": "3.12.8"
  }
 },
 "nbformat": 4,
 "nbformat_minor": 5
}
